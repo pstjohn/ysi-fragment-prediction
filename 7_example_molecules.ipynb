{
 "cells": [
  {
   "cell_type": "code",
   "execution_count": 2,
   "metadata": {
    "collapsed": true
   },
   "outputs": [],
   "source": [
    "import matplotlib.pyplot as plt\n",
    "import seaborn as sns\n",
    "sns.set(context='talk', style='ticks', color_codes=True, font_scale=0.8)\n",
    "\n",
    "import numpy as np\n",
    "import pandas as pd\n",
    "import scipy\n",
    "from tqdm import tqdm\n",
    "\n",
    "%matplotlib inline"
   ]
  },
  {
   "cell_type": "code",
   "execution_count": 3,
   "metadata": {},
   "outputs": [
    {
     "name": "stderr",
     "output_type": "stream",
     "text": [
      "/Users/pstjohn/Dropbox/nrel_documents/Papers/stitching-paper/model/fragdecomp/regression.py:38: UserWarning: X Matrix is not full-rank\n",
      "  warn(\"X Matrix is not full-rank\")\n"
     ]
    }
   ],
   "source": [
    "# Re-preform the ysi-regression\n",
    "ysi = pd.read_csv('ysi.csv').set_index('SMILES')\n",
    "fragments = pd.read_csv('fragments.csv', index_col=0)\n",
    "\n",
    "err = ysi.YSI_err**2\n",
    "\n",
    "from fragdecomp.regression import BayesianRegressionOutlier\n",
    "reg = BayesianRegressionOutlier(fragments.values, ysi.YSI, err, prior_sd=25)\n",
    "sigma, beta, y_hat = reg.sample(1000)"
   ]
  },
  {
   "cell_type": "code",
   "execution_count": 8,
   "metadata": {},
   "outputs": [
    {
     "data": {
      "text/html": [
       "<div>\n",
       "<style>\n",
       "    .dataframe thead tr:only-child th {\n",
       "        text-align: right;\n",
       "    }\n",
       "\n",
       "    .dataframe thead th {\n",
       "        text-align: left;\n",
       "    }\n",
       "\n",
       "    .dataframe tbody tr th {\n",
       "        vertical-align: top;\n",
       "    }\n",
       "</style>\n",
       "<table border=\"1\" class=\"dataframe\">\n",
       "  <thead>\n",
       "    <tr style=\"text-align: right;\">\n",
       "      <th></th>\n",
       "      <th>Species</th>\n",
       "      <th>CAS</th>\n",
       "      <th>Ref</th>\n",
       "      <th>Type</th>\n",
       "      <th>YSI</th>\n",
       "      <th>YSI_err</th>\n",
       "    </tr>\n",
       "    <tr>\n",
       "      <th>SMILES</th>\n",
       "      <th></th>\n",
       "      <th></th>\n",
       "      <th></th>\n",
       "      <th></th>\n",
       "      <th></th>\n",
       "      <th></th>\n",
       "    </tr>\n",
       "  </thead>\n",
       "  <tbody>\n",
       "    <tr>\n",
       "      <th>C(#Cc1ccccc1)c1ccccc1</th>\n",
       "      <td>diphenylacetylene</td>\n",
       "      <td>501-65-5</td>\n",
       "      <td>2.0</td>\n",
       "      <td>aromatic</td>\n",
       "      <td>638.6</td>\n",
       "      <td>24.1</td>\n",
       "    </tr>\n",
       "    <tr>\n",
       "      <th>C#Cc1cc(C)ccc1C</th>\n",
       "      <td>1-ethynyl-2,5-dimethylbenzene</td>\n",
       "      <td>74331-70-7</td>\n",
       "      <td>1.0</td>\n",
       "      <td>aromatic</td>\n",
       "      <td>512.7</td>\n",
       "      <td>19.6</td>\n",
       "    </tr>\n",
       "    <tr>\n",
       "      <th>C#Cc1ccccc1C</th>\n",
       "      <td>1-ethynyl-2-methylbenzene</td>\n",
       "      <td>766-47-2</td>\n",
       "      <td>1.0</td>\n",
       "      <td>aromatic</td>\n",
       "      <td>485.0</td>\n",
       "      <td>18.5</td>\n",
       "    </tr>\n",
       "    <tr>\n",
       "      <th>CCC#Cc1ccccc1</th>\n",
       "      <td>(1-butynyl)-benzene</td>\n",
       "      <td>622-76-4</td>\n",
       "      <td>1.0</td>\n",
       "      <td>aromatic</td>\n",
       "      <td>480.8</td>\n",
       "      <td>18.4</td>\n",
       "    </tr>\n",
       "    <tr>\n",
       "      <th>C#CCc1ccccc1</th>\n",
       "      <td>(2-propynyl)-benzene</td>\n",
       "      <td>10147-11-2</td>\n",
       "      <td>1.0</td>\n",
       "      <td>aromatic</td>\n",
       "      <td>443.7</td>\n",
       "      <td>17.1</td>\n",
       "    </tr>\n",
       "    <tr>\n",
       "      <th>C#Cc1ccc(CC)cc1</th>\n",
       "      <td>1-ethynyl-4-ethylbenzene</td>\n",
       "      <td>40307-11-7</td>\n",
       "      <td>1.0</td>\n",
       "      <td>aromatic</td>\n",
       "      <td>442.6</td>\n",
       "      <td>17.1</td>\n",
       "    </tr>\n",
       "    <tr>\n",
       "      <th>CC#Cc1ccccc1</th>\n",
       "      <td>(1-propynyl)-benzene</td>\n",
       "      <td>673-32-5</td>\n",
       "      <td>1.0</td>\n",
       "      <td>aromatic</td>\n",
       "      <td>427.5</td>\n",
       "      <td>16.5</td>\n",
       "    </tr>\n",
       "    <tr>\n",
       "      <th>C#Cc1cccc(C)c1</th>\n",
       "      <td>1-ethynyl-3-methylbenzene</td>\n",
       "      <td>766-82-5</td>\n",
       "      <td>1.0</td>\n",
       "      <td>aromatic</td>\n",
       "      <td>384.6</td>\n",
       "      <td>14.7</td>\n",
       "    </tr>\n",
       "    <tr>\n",
       "      <th>C#Cc1ccc(C)cc1</th>\n",
       "      <td>1-ethynyl-4-methylbenzene</td>\n",
       "      <td>766-97-2</td>\n",
       "      <td>1.0</td>\n",
       "      <td>aromatic</td>\n",
       "      <td>374.7</td>\n",
       "      <td>14.7</td>\n",
       "    </tr>\n",
       "    <tr>\n",
       "      <th>C#CCCc1ccccc1</th>\n",
       "      <td>(3-butynyl)-benzene</td>\n",
       "      <td>16520-62-0</td>\n",
       "      <td>1.0</td>\n",
       "      <td>aromatic</td>\n",
       "      <td>298.9</td>\n",
       "      <td>11.7</td>\n",
       "    </tr>\n",
       "    <tr>\n",
       "      <th>C#Cc1ccccc1</th>\n",
       "      <td>phenylacetylene</td>\n",
       "      <td>536-74-3</td>\n",
       "      <td>1.0</td>\n",
       "      <td>aromatic</td>\n",
       "      <td>216.3</td>\n",
       "      <td>9.3</td>\n",
       "    </tr>\n",
       "    <tr>\n",
       "      <th>N#Cc1ccccc1</th>\n",
       "      <td>cyanobenzene</td>\n",
       "      <td>100-47-0</td>\n",
       "      <td>1.0</td>\n",
       "      <td>aromatic</td>\n",
       "      <td>115.0</td>\n",
       "      <td>6.3</td>\n",
       "    </tr>\n",
       "    <tr>\n",
       "      <th>C#CCCCCCC</th>\n",
       "      <td>1-octyne</td>\n",
       "      <td>629-05-0</td>\n",
       "      <td>3.0</td>\n",
       "      <td>alkynes/alkadienes</td>\n",
       "      <td>74.1</td>\n",
       "      <td>2.2</td>\n",
       "    </tr>\n",
       "    <tr>\n",
       "      <th>CC#CCC</th>\n",
       "      <td>2-pentyne</td>\n",
       "      <td>627-21-4</td>\n",
       "      <td>3.0</td>\n",
       "      <td>alkynes/alkadienes</td>\n",
       "      <td>54.7</td>\n",
       "      <td>2.0</td>\n",
       "    </tr>\n",
       "    <tr>\n",
       "      <th>C#CCCC</th>\n",
       "      <td>1-pentyne</td>\n",
       "      <td>627-19-0</td>\n",
       "      <td>3.0</td>\n",
       "      <td>alkynes/alkadienes</td>\n",
       "      <td>47.3</td>\n",
       "      <td>2.0</td>\n",
       "    </tr>\n",
       "  </tbody>\n",
       "</table>\n",
       "</div>"
      ],
      "text/plain": [
       "                                             Species         CAS  Ref  \\\n",
       "SMILES                                                                  \n",
       "C(#Cc1ccccc1)c1ccccc1              diphenylacetylene    501-65-5  2.0   \n",
       "C#Cc1cc(C)ccc1C        1-ethynyl-2,5-dimethylbenzene  74331-70-7  1.0   \n",
       "C#Cc1ccccc1C               1-ethynyl-2-methylbenzene    766-47-2  1.0   \n",
       "CCC#Cc1ccccc1                    (1-butynyl)-benzene    622-76-4  1.0   \n",
       "C#CCc1ccccc1                    (2-propynyl)-benzene  10147-11-2  1.0   \n",
       "C#Cc1ccc(CC)cc1             1-ethynyl-4-ethylbenzene  40307-11-7  1.0   \n",
       "CC#Cc1ccccc1                    (1-propynyl)-benzene    673-32-5  1.0   \n",
       "C#Cc1cccc(C)c1             1-ethynyl-3-methylbenzene    766-82-5  1.0   \n",
       "C#Cc1ccc(C)cc1             1-ethynyl-4-methylbenzene    766-97-2  1.0   \n",
       "C#CCCc1ccccc1                    (3-butynyl)-benzene  16520-62-0  1.0   \n",
       "C#Cc1ccccc1                          phenylacetylene    536-74-3  1.0   \n",
       "N#Cc1ccccc1                             cyanobenzene    100-47-0  1.0   \n",
       "C#CCCCCCC                                   1-octyne    629-05-0  3.0   \n",
       "CC#CCC                                     2-pentyne    627-21-4  3.0   \n",
       "C#CCCC                                     1-pentyne    627-19-0  3.0   \n",
       "\n",
       "                                     Type    YSI  YSI_err  \n",
       "SMILES                                                     \n",
       "C(#Cc1ccccc1)c1ccccc1            aromatic  638.6     24.1  \n",
       "C#Cc1cc(C)ccc1C                  aromatic  512.7     19.6  \n",
       "C#Cc1ccccc1C                     aromatic  485.0     18.5  \n",
       "CCC#Cc1ccccc1                    aromatic  480.8     18.4  \n",
       "C#CCc1ccccc1                     aromatic  443.7     17.1  \n",
       "C#Cc1ccc(CC)cc1                  aromatic  442.6     17.1  \n",
       "CC#Cc1ccccc1                     aromatic  427.5     16.5  \n",
       "C#Cc1cccc(C)c1                   aromatic  384.6     14.7  \n",
       "C#Cc1ccc(C)cc1                   aromatic  374.7     14.7  \n",
       "C#CCCc1ccccc1                    aromatic  298.9     11.7  \n",
       "C#Cc1ccccc1                      aromatic  216.3      9.3  \n",
       "N#Cc1ccccc1                      aromatic  115.0      6.3  \n",
       "C#CCCCCCC              alkynes/alkadienes   74.1      2.2  \n",
       "CC#CCC                 alkynes/alkadienes   54.7      2.0  \n",
       "C#CCCC                 alkynes/alkadienes   47.3      2.0  "
      ]
     },
     "execution_count": 8,
     "metadata": {},
     "output_type": "execute_result"
    }
   ],
   "source": [
    "ysi[ysi.index.str.contains('#')]"
   ]
  },
  {
   "cell_type": "code",
   "execution_count": 3,
   "metadata": {
    "collapsed": true
   },
   "outputs": [],
   "source": [
    "six_carbon_series = [\n",
    "    'CCCCCCO', # 1-alcohol\n",
    "    'CCCCC(O)C', # 2-alcohol\n",
    "    'CCCC(C)(O)C', # 3-alcohol\n",
    "    'CCCCCOC', # ester\n",
    "    'CCCCCC(=O)O', # carboxylic acid\n",
    "    'CCCCCC=O', # aldehyde\n",
    "    'CCCCC(=O)C', # ketone\n",
    "    'CCCCCC', # n-alkane\n",
    "    'CCCC(C)C', # secondary branch\n",
    "    'CCC(C)(C)C', # tertiary branch\n",
    "    'CCCCC=C', # terminal alkene\n",
    "    'CCCC=CC', # middle alkene\n",
    "    'CCC=C(C)C', # branched alkene\n",
    "    'CCCCC#C', # terminal alkyne,\n",
    "    'CCCC#CC', # terminal alkyne,\n",
    "    'C1CCCCC1', # ring\n",
    "    'C1CCCC1C', # methyl ring\n",
    "    'C1CCCC1=C', # alkene ring\n",
    "]\n",
    "\n",
    "benzene_series = [\n",
    "    'c1ccccc1', # benzene\n",
    "    'c1ccccc1C', # methyl\n",
    "    'c1ccccc1CC', # ethyl\n",
    "    'c1ccccc1C(=C)C', # alkene\n",
    "    'c1ccccc1C#C', # alkyne\n",
    "    'c1ccc2c(c1)CCCC2', # fused aliph ring\n",
    "    'c1ccc2ccccc2c1', # fused aromatic ring\n",
    "    'c1ccc(-c2ccccc2)cc1', # bipehynl\n",
    "]"
   ]
  },
  {
   "cell_type": "code",
   "execution_count": 4,
   "metadata": {
    "collapsed": true
   },
   "outputs": [],
   "source": [
    "from fragdecomp.fragment_decomposition import get_fragments"
   ]
  },
  {
   "cell_type": "code",
   "execution_count": 5,
   "metadata": {
    "collapsed": true
   },
   "outputs": [],
   "source": [
    "frags_six = pd.Series(six_carbon_series).apply(get_fragments)\n",
    "frags_six.index = six_carbon_series\n",
    "\n",
    "frags_aro = pd.Series(benzene_series).apply(get_fragments)\n",
    "frags_aro.index = benzene_series\n",
    "\n",
    "assert frags_aro.columns.isin(fragments.columns).all()\n",
    "assert frags_six.columns.isin(fragments.columns).all()\n",
    "\n",
    "frags_six = frags_six.loc[:, fragments.columns].fillna(0.).astype(int)\n",
    "frags_aro = frags_aro.loc[:, fragments.columns].fillna(0.).astype(int)"
   ]
  },
  {
   "cell_type": "code",
   "execution_count": 6,
   "metadata": {
    "collapsed": true
   },
   "outputs": [],
   "source": [
    "means_aro, hpd_aro = reg.predict(frags_aro, beta)\n",
    "means_six, hpd_six = reg.predict(frags_six, beta)"
   ]
  },
  {
   "cell_type": "code",
   "execution_count": 7,
   "metadata": {
    "collapsed": true
   },
   "outputs": [],
   "source": [
    "six_carbon_series = np.array(six_carbon_series)[means_six.argsort()]\n",
    "means_six = means_six[means_six.argsort()]\n",
    "hpd_six = hpd_six[means_six.argsort()]"
   ]
  },
  {
   "cell_type": "code",
   "execution_count": 8,
   "metadata": {
    "collapsed": true
   },
   "outputs": [],
   "source": [
    "from rdkit.Chem.Draw import MolsToGridImage\n",
    "from rdkit.Chem import AllChem\n",
    "from rdkit.Chem import MolFromSmiles"
   ]
  },
  {
   "cell_type": "code",
   "execution_count": 9,
   "metadata": {
    "collapsed": true
   },
   "outputs": [],
   "source": [
    "from fragdecomp.fragment_decomposition import draw_mol_svg\n",
    "from fragdecomp.chemical_conversions import canonicalize_smiles, get_iupac_name_from_smiles"
   ]
  },
  {
   "cell_type": "code",
   "execution_count": 10,
   "metadata": {
    "collapsed": true
   },
   "outputs": [],
   "source": [
    "from IPython.display import SVG"
   ]
  },
  {
   "cell_type": "code",
   "execution_count": 11,
   "metadata": {
    "collapsed": true
   },
   "outputs": [],
   "source": [
    "from itertools import chain"
   ]
  },
  {
   "cell_type": "code",
   "execution_count": 12,
   "metadata": {
    "collapsed": true
   },
   "outputs": [],
   "source": [
    "names_six = [get_iupac_name_from_smiles(smiles) for smiles in six_carbon_series]\n",
    "names_aro = [get_iupac_name_from_smiles(smiles) for smiles in benzene_series]"
   ]
  },
  {
   "cell_type": "code",
   "execution_count": 13,
   "metadata": {},
   "outputs": [
    {
     "data": {
      "text/plain": [
       "['hexanoic acid',\n",
       " 'hexanal',\n",
       " 'hexan-2-one',\n",
       " '1-methoxypentane',\n",
       " 'hexan-1-ol',\n",
       " 'hexan-2-ol',\n",
       " 'hexane',\n",
       " '2-methylpentan-2-ol',\n",
       " '2-methylpentane',\n",
       " 'cyclohexane',\n",
       " 'hex-1-ene',\n",
       " '2,2-dimethylbutane',\n",
       " 'hex-2-ene',\n",
       " 'methylcyclopentane',\n",
       " '2-methylpent-2-ene',\n",
       " 'hex-1-yne',\n",
       " 'hex-2-yne',\n",
       " 'methylidenecyclopentane']"
      ]
     },
     "execution_count": 13,
     "metadata": {},
     "output_type": "execute_result"
    }
   ],
   "source": [
    "names_six"
   ]
  },
  {
   "cell_type": "code",
   "execution_count": 14,
   "metadata": {},
   "outputs": [
    {
     "data": {
      "text/plain": [
       "['benzene',\n",
       " 'toluene',\n",
       " 'ethylbenzene',\n",
       " 'prop-1-en-2-ylbenzene',\n",
       " 'ethynylbenzene',\n",
       " '1,2,3,4-tetrahydronaphthalene',\n",
       " 'naphthalene',\n",
       " \"1,1'-biphenyl\"]"
      ]
     },
     "execution_count": 14,
     "metadata": {},
     "output_type": "execute_result"
    }
   ],
   "source": [
    "names_aro"
   ]
  },
  {
   "cell_type": "code",
   "execution_count": 15,
   "metadata": {},
   "outputs": [
    {
     "data": {
      "text/plain": [
       "array([ 105.63542874,  177.07552182,  229.18162939,  311.58602241,\n",
       "        318.32433564,  402.66909262,  525.63156346,  656.74519175])"
      ]
     },
     "execution_count": 15,
     "metadata": {},
     "output_type": "execute_result"
    }
   ],
   "source": [
    "means_aro"
   ]
  },
  {
   "cell_type": "code",
   "execution_count": 16,
   "metadata": {},
   "outputs": [
    {
     "data": {
      "text/plain": [
       "array([ 17.57880316,  13.48995062,  10.03139603,  52.39953642,\n",
       "        25.04958958,  46.24094873,  26.95160952,  39.42170191])"
      ]
     },
     "execution_count": 16,
     "metadata": {},
     "output_type": "execute_result"
    }
   ],
   "source": [
    "hpd_aro.sum(1)/2"
   ]
  },
  {
   "cell_type": "code",
   "execution_count": 17,
   "metadata": {
    "collapsed": true
   },
   "outputs": [],
   "source": [
    "mols = [MolFromSmiles(smiles) for smiles in benzene_series]\n",
    "\n",
    "mol_align = MolFromSmiles('c1ccccc1')\n",
    "AllChem.Compute2DCoords(mol_align)\n",
    "\n",
    "for mol in mols:\n",
    "    try:\n",
    "        AllChem.GenerateDepictionMatching2DStructure(mol, mol_align)\n",
    "    except ValueError:\n",
    "        pass\n",
    "    \n",
    "aro_leg = [\"{:.1f} &#xb1; {:.1f}\".format(mean, sum(hpd)/2) for mean, hpd in zip(means_aro, hpd_aro)]\n",
    "\n",
    "with open('fragment_images/aro_series.svg', 'w') as f:\n",
    "    f.write(MolsToGridImage(mols, useSVG=True, subImgSize=(100, 100), molsPerRow=2, legends=aro_leg))"
   ]
  },
  {
   "cell_type": "code",
   "execution_count": 18,
   "metadata": {
    "collapsed": true
   },
   "outputs": [],
   "source": [
    "mol_align = MolFromSmiles('CCCCCC')\n",
    "AllChem.Compute2DCoords(mol_align)\n",
    "\n",
    "mols = [MolFromSmiles(smiles) for smiles in six_carbon_series]\n",
    "\n",
    "# subms = [x for x in mols if x.HasSubstructMatch(mol_align)]\n",
    "for mol in mols:\n",
    "    if mol.GetAtoms()[0].IsInRing():\n",
    "        continue\n",
    "    try:\n",
    "        AllChem.GenerateDepictionMatching2DStructure(mol, mol_align)\n",
    "    except ValueError:\n",
    "        pass\n",
    "\n",
    "six_leg = [\"{:.1f} &#xb1; {:.1f}\".format(mean, sum(hpd)/2) for mean, hpd in zip(means_six, hpd_six)]\n",
    "\n",
    "with open('fragment_images/six_series.svg', 'w') as f:\n",
    "    f.write(MolsToGridImage(mols, useSVG=True, subImgSize=(100, 100), molsPerRow=3, legends=six_leg))"
   ]
  }
 ],
 "metadata": {
  "anaconda-cloud": {},
  "kernelspec": {
   "display_name": "Python [conda env:ysi]",
   "language": "python",
   "name": "conda-env-ysi-py"
  },
  "language_info": {
   "codemirror_mode": {
    "name": "ipython",
    "version": 3
   },
   "file_extension": ".py",
   "mimetype": "text/x-python",
   "name": "python",
   "nbconvert_exporter": "python",
   "pygments_lexer": "ipython3",
   "version": "3.5.2"
  }
 },
 "nbformat": 4,
 "nbformat_minor": 2
}
